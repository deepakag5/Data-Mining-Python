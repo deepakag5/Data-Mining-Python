{
 "cells": [
  {
   "cell_type": "code",
   "execution_count": 1,
   "metadata": {
    "collapsed": true
   },
   "outputs": [],
   "source": [
    "# Import the required libraries\n",
    "\n",
    "import pandas as pd\n",
    "import numpy as np\n",
    "import matplotlib.pyplot as plt"
   ]
  },
  {
   "cell_type": "code",
   "execution_count": 2,
   "metadata": {
    "collapsed": true
   },
   "outputs": [],
   "source": [
    "# Import the required plotly libraries\n",
    "\n",
    "import plotly.plotly as py\n",
    "from plotly.offline import download_plotlyjs, init_notebook_mode, plot, iplot"
   ]
  },
  {
   "cell_type": "code",
   "execution_count": 4,
   "metadata": {
    "collapsed": true
   },
   "outputs": [],
   "source": [
    "# Here we have used SIPRI (STOCKHOLM INTERNATIONAL PEACE RESEARCH INSTITUTE) and World Bank DataBank as Data Source \n",
    "# Read the military expenditure and gdp per capita data of Last Decade\n",
    "\n",
    "military_spending_percapita = pd.read_csv(\"~/Python_Project/military_expenditure_percapita.csv\")\n",
    "gdp_percapita = pd.read_csv(\"~/Python_Project/gdp_percapita.csv\")"
   ]
  },
  {
   "cell_type": "code",
   "execution_count": 5,
   "metadata": {},
   "outputs": [
    {
     "data": {
      "text/html": [
       "<div>\n",
       "<style>\n",
       "    .dataframe thead tr:only-child th {\n",
       "        text-align: right;\n",
       "    }\n",
       "\n",
       "    .dataframe thead th {\n",
       "        text-align: left;\n",
       "    }\n",
       "\n",
       "    .dataframe tbody tr th {\n",
       "        vertical-align: top;\n",
       "    }\n",
       "</style>\n",
       "<table border=\"1\" class=\"dataframe\">\n",
       "  <thead>\n",
       "    <tr style=\"text-align: right;\">\n",
       "      <th></th>\n",
       "      <th>Country Name</th>\n",
       "      <th>2007</th>\n",
       "      <th>2008</th>\n",
       "      <th>2009</th>\n",
       "      <th>2010</th>\n",
       "      <th>2011</th>\n",
       "      <th>2012</th>\n",
       "      <th>2013</th>\n",
       "      <th>2014</th>\n",
       "      <th>2015</th>\n",
       "      <th>2016</th>\n",
       "    </tr>\n",
       "  </thead>\n",
       "  <tbody>\n",
       "    <tr>\n",
       "      <th>0</th>\n",
       "      <td>Afghanistan</td>\n",
       "      <td>369.8357959698</td>\n",
       "      <td>373.3611163</td>\n",
       "      <td>445.8932979237</td>\n",
       "      <td>553.3002893831</td>\n",
       "      <td>603.5370230624</td>\n",
       "      <td>669.009050888</td>\n",
       "      <td>631.7449706415</td>\n",
       "      <td>612.0696513912</td>\n",
       "      <td>584.0259020558</td>\n",
       "      <td>561.7787462695</td>\n",
       "    </tr>\n",
       "    <tr>\n",
       "      <th>1</th>\n",
       "      <td>Albania</td>\n",
       "      <td>3603.0136853664</td>\n",
       "      <td>4370.5396465315</td>\n",
       "      <td>4114.1365449095</td>\n",
       "      <td>4094.3588319192</td>\n",
       "      <td>4437.1780684361</td>\n",
       "      <td>4247.6143082625</td>\n",
       "      <td>4414.7231395733</td>\n",
       "      <td>4575.7637866622</td>\n",
       "      <td>3954.0227832601</td>\n",
       "      <td>4146.896250462</td>\n",
       "    </tr>\n",
       "    <tr>\n",
       "      <th>2</th>\n",
       "      <td>Algeria</td>\n",
       "      <td>3935.1833428593</td>\n",
       "      <td>4905.2548657626</td>\n",
       "      <td>3868.8312304091</td>\n",
       "      <td>4463.3946748895</td>\n",
       "      <td>5432.2502026808</td>\n",
       "      <td>5564.8256595807</td>\n",
       "      <td>5471.8667658485</td>\n",
       "      <td>5470.851007071</td>\n",
       "      <td>4132.7602920886</td>\n",
       "      <td>3843.7523220231</td>\n",
       "    </tr>\n",
       "    <tr>\n",
       "      <th>3</th>\n",
       "      <td>American Samoa</td>\n",
       "      <td>8980.5364143481</td>\n",
       "      <td>9871.9971944591</td>\n",
       "      <td>12058.26382343</td>\n",
       "      <td>10352.8227618312</td>\n",
       "      <td>10375.9942154736</td>\n",
       "      <td>11660.329531052</td>\n",
       "      <td>11553.6912144936</td>\n",
       "      <td>11508.5592654725</td>\n",
       "      <td>11541.8549795632</td>\n",
       "      <td>..</td>\n",
       "    </tr>\n",
       "    <tr>\n",
       "      <th>4</th>\n",
       "      <td>Andorra</td>\n",
       "      <td>48510.4672826221</td>\n",
       "      <td>47712.2990809422</td>\n",
       "      <td>43215.6870129515</td>\n",
       "      <td>39627.6635163399</td>\n",
       "      <td>40919.1832785953</td>\n",
       "      <td>38167.0957462493</td>\n",
       "      <td>40215.4353174077</td>\n",
       "      <td>..</td>\n",
       "      <td>..</td>\n",
       "      <td>..</td>\n",
       "    </tr>\n",
       "  </tbody>\n",
       "</table>\n",
       "</div>"
      ],
      "text/plain": [
       "     Country Name              2007              2008              2009  \\\n",
       "0     Afghanistan    369.8357959698       373.3611163    445.8932979237   \n",
       "1         Albania   3603.0136853664   4370.5396465315   4114.1365449095   \n",
       "2         Algeria   3935.1833428593   4905.2548657626   3868.8312304091   \n",
       "3  American Samoa   8980.5364143481   9871.9971944591    12058.26382343   \n",
       "4         Andorra  48510.4672826221  47712.2990809422  43215.6870129515   \n",
       "\n",
       "               2010              2011              2012              2013  \\\n",
       "0    553.3002893831    603.5370230624     669.009050888    631.7449706415   \n",
       "1   4094.3588319192   4437.1780684361   4247.6143082625   4414.7231395733   \n",
       "2   4463.3946748895   5432.2502026808   5564.8256595807   5471.8667658485   \n",
       "3  10352.8227618312  10375.9942154736   11660.329531052  11553.6912144936   \n",
       "4  39627.6635163399  40919.1832785953  38167.0957462493  40215.4353174077   \n",
       "\n",
       "               2014              2015             2016  \n",
       "0    612.0696513912    584.0259020558   561.7787462695  \n",
       "1   4575.7637866622   3954.0227832601   4146.896250462  \n",
       "2    5470.851007071   4132.7602920886  3843.7523220231  \n",
       "3  11508.5592654725  11541.8549795632               ..  \n",
       "4                ..                ..               ..  "
      ]
     },
     "execution_count": 5,
     "metadata": {},
     "output_type": "execute_result"
    }
   ],
   "source": [
    "# Inspect first few rows of the data \n",
    "\n",
    "military_spending_percapita.head()\n",
    "gdp_percapita.head()"
   ]
  },
  {
   "cell_type": "code",
   "execution_count": 6,
   "metadata": {
    "collapsed": true
   },
   "outputs": [],
   "source": [
    "# Replace the non-numeric data with NaN (Not a Number) \n",
    "\n",
    "\n",
    "military_spending_percapita = military_spending_percapita.replace(\"..\",np.nan)\n",
    "military_spending_percapita = military_spending_percapita.replace(\"...\",np.nan)\n",
    "military_spending_percapita = military_spending_percapita.replace(\". .\",np.nan)\n",
    "military_spending_percapita = military_spending_percapita.replace(\". . .\",np.nan)\n",
    "military_spending_percapita = military_spending_percapita.replace(\"xxx\",np.nan)\n",
    "\n",
    "gdp_percapita = gdp_percapita.replace(\"..\",np.nan)\n",
    "gdp_percapita = gdp_percapita.replace(\"...\",np.nan)\n",
    "gdp_percapita = gdp_percapita.replace(\". .\",np.nan)\n",
    "gdp_percapita = gdp_percapita.replace(\". . .\",np.nan)\n",
    "gdp_percapita = gdp_percapita.replace(\"xxx\",np.nan)\n"
   ]
  },
  {
   "cell_type": "code",
   "execution_count": 7,
   "metadata": {
    "collapsed": true
   },
   "outputs": [],
   "source": [
    "# Remove the rows which contains NA\n",
    "\n",
    "military_spending_percapita = military_spending_percapita.dropna(axis=0,how='any')\n",
    "gdp_percapita = gdp_percapita.dropna(axis=0,how='any')"
   ]
  },
  {
   "cell_type": "code",
   "execution_count": 8,
   "metadata": {},
   "outputs": [
    {
     "name": "stdout",
     "output_type": "stream",
     "text": [
      "<class 'pandas.core.frame.DataFrame'>\n",
      "Int64Index: 132 entries, 0 to 167\n",
      "Data columns (total 11 columns):\n",
      "Country    132 non-null object\n",
      "2007       132 non-null object\n",
      "2008       132 non-null object\n",
      "2009       132 non-null object\n",
      "2010       132 non-null object\n",
      "2011       132 non-null object\n",
      "2012       132 non-null object\n",
      "2013       132 non-null object\n",
      "2014       132 non-null object\n",
      "2015       132 non-null object\n",
      "2016       132 non-null object\n",
      "dtypes: object(11)\n",
      "memory usage: 12.4+ KB\n"
     ]
    }
   ],
   "source": [
    "# Check if all the values are non-null in the dataset\n",
    "\n",
    "military_spending_percapita.info()"
   ]
  },
  {
   "cell_type": "code",
   "execution_count": 9,
   "metadata": {
    "collapsed": true
   },
   "outputs": [],
   "source": [
    "# Merge the gdp data with military spending for the matching country names\n",
    "\n",
    "gdp_military_spending_percapita = (gdp_percapita.merge(military_spending_percapita,\n",
    "                                                  left_on='Country Name', right_on='Country', how='inner'))"
   ]
  },
  {
   "cell_type": "code",
   "execution_count": 10,
   "metadata": {
    "collapsed": true
   },
   "outputs": [],
   "source": [
    "# Delete the duplicate column\n",
    "\n",
    "del gdp_military_spending_percapita['Country Name']"
   ]
  },
  {
   "cell_type": "code",
   "execution_count": 11,
   "metadata": {
    "collapsed": true
   },
   "outputs": [],
   "source": [
    "# Set the row index as country name as it is unique identifier\n",
    "\n",
    "gdp_military_spending_percapita = gdp_military_spending_percapita.set_index('Country')"
   ]
  },
  {
   "cell_type": "code",
   "execution_count": 12,
   "metadata": {
    "collapsed": true
   },
   "outputs": [],
   "source": [
    "# Convert the numerical data into numeric data type from object\n",
    "\n",
    "gdp_military_spending_percapita.loc[:,'2007_x':'2016_y'] = gdp_military_spending_percapita.loc[:,'2007_x':'2016_y'].apply(pd.to_numeric)"
   ]
  },
  {
   "cell_type": "code",
   "execution_count": 13,
   "metadata": {
    "collapsed": true
   },
   "outputs": [],
   "source": [
    "# Subset the data for year 2016 gdp and military spending\n",
    "\n",
    "gdp_military_spending_percapita_2016 = gdp_military_spending_percapita.loc[:,['2016_x','2016_y']]"
   ]
  },
  {
   "cell_type": "code",
   "execution_count": 14,
   "metadata": {
    "collapsed": true
   },
   "outputs": [],
   "source": [
    "# Rename the column names\n",
    "\n",
    "gdp_military_spending_percapita_2016.columns = ['GDP Per Capita (US $)','Military Spending Per Capita (US $)']"
   ]
  },
  {
   "cell_type": "code",
   "execution_count": 15,
   "metadata": {
    "collapsed": true
   },
   "outputs": [],
   "source": [
    "# Sort the data on the basis of top military expenditures\n",
    "\n",
    "gdp_military_spending_percapita_2016_sorted = (gdp_military_spending_percapita_2016.sort_values\n",
    "                                                    (by='Military Spending Per Capita (US $)',ascending=False))"
   ]
  },
  {
   "cell_type": "code",
   "execution_count": 16,
   "metadata": {
    "collapsed": true
   },
   "outputs": [],
   "source": [
    "# Round the data for nearest integer\n",
    "\n",
    "gdp_military_spending_percapita_2016_sorted = (gdp_military_spending_percapita_2016_sorted.round\n",
    "                                        ({'GDP Per Capita (US $)':0,'Military Spending Per Capita (US $)':0}))"
   ]
  },
  {
   "cell_type": "code",
   "execution_count": 17,
   "metadata": {
    "collapsed": true
   },
   "outputs": [],
   "source": [
    "# Subset for top 20 military expenditure nations by per capita\n",
    "\n",
    "gdp_military_spending_percapita_2016_top20 = gdp_military_spending_percapita_2016_sorted.iloc[0:20,]"
   ]
  },
  {
   "cell_type": "code",
   "execution_count": 18,
   "metadata": {
    "collapsed": true
   },
   "outputs": [],
   "source": [
    "# Save the results to export to plotly\n",
    "\n",
    "gdp_military_spending_percapita_2016_top20.to_csv(\"gdp_military_spending_percapita_2016_top20.csv\")"
   ]
  },
  {
   "cell_type": "code",
   "execution_count": 22,
   "metadata": {},
   "outputs": [
    {
     "data": {
      "text/html": [
       "<iframe id=\"igraph\" scrolling=\"no\" style=\"border:none;\" seamless=\"seamless\" src=\"https://plot.ly/~iamDeepakA/44.embed\" height=\"525px\" width=\"100%\"></iframe>"
      ],
      "text/plain": [
       "<plotly.tools.PlotlyDisplay object>"
      ]
     },
     "execution_count": 22,
     "metadata": {},
     "output_type": "execute_result"
    }
   ],
   "source": [
    "# Fetch the graph from online plotly and display\n",
    "py.sign_in('iamDeepakA','priXUwppx0TKp9sswWmk')\n",
    "fig = py.get_figure('https://plot.ly/~iamDeepakA/43/', raw=False)\n",
    "py.iplot(fig)"
   ]
  },
  {
   "cell_type": "code",
   "execution_count": 19,
   "metadata": {
    "collapsed": true
   },
   "outputs": [],
   "source": [
    "# Prepare the data for top 20 military expenditure nation by per capita for 2015\n",
    "\n",
    "gdp_military_spending_percapita_2015 = gdp_military_spending_percapita.loc[:,['2015_x','2015_y']]\n",
    "\n",
    "gdp_military_spending_percapita_2015.columns = ['GDP Per Capita (US $)','Military Spending Per Capita (US $)']\n",
    "\n",
    "gdp_military_spending_percapita_2015.head()\n",
    "\n",
    "gdp_military_spending_percapita_2015_sorted = (gdp_military_spending_percapita_2015.sort_values\n",
    "                                                    (by='Military Spending Per Capita (US $)',ascending=False))\n",
    "\n",
    "gdp_military_spending_percapita_2015_sorted = (gdp_military_spending_percapita_2015_sorted.round\n",
    "                                        ({'GDP Per Capita (US $)':0,'Military Spending Per Capita (US $)':0}))\n",
    "\n",
    "gdp_military_spending_percapita_2015_top20 = gdp_military_spending_percapita_2015_sorted.iloc[0:20,]\n",
    "\n",
    "gdp_military_spending_percapita_2015_top20\n",
    "\n",
    "gdp_military_spending_percapita_2015_top20.to_csv(\"gdp_military_spending_percapita_2015_top20.csv\")"
   ]
  },
  {
   "cell_type": "code",
   "execution_count": 23,
   "metadata": {},
   "outputs": [
    {
     "data": {
      "text/html": [
       "<iframe id=\"igraph\" scrolling=\"no\" style=\"border:none;\" seamless=\"seamless\" src=\"https://plot.ly/~iamDeepakA/46.embed\" height=\"525px\" width=\"100%\"></iframe>"
      ],
      "text/plain": [
       "<plotly.tools.PlotlyDisplay object>"
      ]
     },
     "execution_count": 23,
     "metadata": {},
     "output_type": "execute_result"
    }
   ],
   "source": [
    "fig = py.get_figure('https://plot.ly/~iamDeepakA/20/', raw=False)\n",
    "py.iplot(fig)\n"
   ]
  },
  {
   "cell_type": "code",
   "execution_count": null,
   "metadata": {
    "collapsed": true
   },
   "outputs": [],
   "source": []
  }
 ],
 "metadata": {
  "kernelspec": {
   "display_name": "Python 3",
   "language": "python",
   "name": "python3"
  },
  "language_info": {
   "codemirror_mode": {
    "name": "ipython",
    "version": 3
   },
   "file_extension": ".py",
   "mimetype": "text/x-python",
   "name": "python",
   "nbconvert_exporter": "python",
   "pygments_lexer": "ipython3",
   "version": "3.6.2"
  }
 },
 "nbformat": 4,
 "nbformat_minor": 2
}
