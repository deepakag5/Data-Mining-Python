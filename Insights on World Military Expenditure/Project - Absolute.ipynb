{
 "cells": [
  {
   "cell_type": "code",
   "execution_count": 3,
   "metadata": {
    "collapsed": true
   },
   "outputs": [],
   "source": [
    "# Import the required libraries\n",
    "\n",
    "import pandas as pd\n",
    "import numpy as np\n",
    "import matplotlib.pyplot as plt"
   ]
  },
  {
   "cell_type": "code",
   "execution_count": 4,
   "metadata": {
    "collapsed": true
   },
   "outputs": [],
   "source": [
    "# Import the required plotly libraries\n",
    "\n",
    "import plotly.plotly as py\n",
    "from plotly.offline import download_plotlyjs, init_notebook_mode, plot, iplot"
   ]
  },
  {
   "cell_type": "code",
   "execution_count": 5,
   "metadata": {
    "collapsed": true
   },
   "outputs": [],
   "source": [
    "# Here we have used SIPRI (STOCKHOLM INTERNATIONAL PEACE RESEARCH INSTITUTE) and World Bank DataBank as Data Source \n",
    "# Read the military expenditure and gdp data of Last Decade\n",
    "\n",
    "military_spending = pd.read_csv(\"~/Python_Project/military_expenditure_in_usd.csv\")\n",
    "gdp = pd.read_csv(\"~/Python_Project/gdp_data_in_usd.csv\")"
   ]
  },
  {
   "cell_type": "code",
   "execution_count": 6,
   "metadata": {},
   "outputs": [
    {
     "data": {
      "text/html": [
       "<div>\n",
       "<style>\n",
       "    .dataframe thead tr:only-child th {\n",
       "        text-align: right;\n",
       "    }\n",
       "\n",
       "    .dataframe thead th {\n",
       "        text-align: left;\n",
       "    }\n",
       "\n",
       "    .dataframe tbody tr th {\n",
       "        vertical-align: top;\n",
       "    }\n",
       "</style>\n",
       "<table border=\"1\" class=\"dataframe\">\n",
       "  <thead>\n",
       "    <tr style=\"text-align: right;\">\n",
       "      <th></th>\n",
       "      <th>Country Name</th>\n",
       "      <th>2007</th>\n",
       "      <th>2008</th>\n",
       "      <th>2009</th>\n",
       "      <th>2010</th>\n",
       "      <th>2011</th>\n",
       "      <th>2012</th>\n",
       "      <th>2013</th>\n",
       "      <th>2014</th>\n",
       "      <th>2015</th>\n",
       "      <th>2016</th>\n",
       "    </tr>\n",
       "  </thead>\n",
       "  <tbody>\n",
       "    <tr>\n",
       "      <th>0</th>\n",
       "      <td>Afghanistan</td>\n",
       "      <td>9.843842e+09</td>\n",
       "      <td>1.019053e+10</td>\n",
       "      <td>1.248694e+10</td>\n",
       "      <td>1.593680e+10</td>\n",
       "      <td>1.793024e+10</td>\n",
       "      <td>2.053654e+10</td>\n",
       "      <td>2.004633e+10</td>\n",
       "      <td>2.005019e+10</td>\n",
       "      <td>1.970299e+10</td>\n",
       "      <td>1.946902e+10</td>\n",
       "    </tr>\n",
       "    <tr>\n",
       "      <th>1</th>\n",
       "      <td>Albania</td>\n",
       "      <td>1.070101e+10</td>\n",
       "      <td>1.288135e+10</td>\n",
       "      <td>1.204421e+10</td>\n",
       "      <td>1.192695e+10</td>\n",
       "      <td>1.289087e+10</td>\n",
       "      <td>1.231978e+10</td>\n",
       "      <td>1.278103e+10</td>\n",
       "      <td>1.321986e+10</td>\n",
       "      <td>1.139037e+10</td>\n",
       "      <td>1.192689e+10</td>\n",
       "    </tr>\n",
       "    <tr>\n",
       "      <th>2</th>\n",
       "      <td>Algeria</td>\n",
       "      <td>1.349771e+11</td>\n",
       "      <td>1.710007e+11</td>\n",
       "      <td>1.372110e+11</td>\n",
       "      <td>1.612073e+11</td>\n",
       "      <td>2.000131e+11</td>\n",
       "      <td>2.090474e+11</td>\n",
       "      <td>2.097835e+11</td>\n",
       "      <td>2.139831e+11</td>\n",
       "      <td>1.647795e+11</td>\n",
       "      <td>1.560796e+11</td>\n",
       "    </tr>\n",
       "    <tr>\n",
       "      <th>3</th>\n",
       "      <td>American Samoa</td>\n",
       "      <td>5.200000e+08</td>\n",
       "      <td>5.630000e+08</td>\n",
       "      <td>6.780000e+08</td>\n",
       "      <td>5.760000e+08</td>\n",
       "      <td>5.740000e+08</td>\n",
       "      <td>6.440000e+08</td>\n",
       "      <td>6.390000e+08</td>\n",
       "      <td>6.380000e+08</td>\n",
       "      <td>6.410000e+08</td>\n",
       "      <td>NaN</td>\n",
       "    </tr>\n",
       "    <tr>\n",
       "      <th>4</th>\n",
       "      <td>Andorra</td>\n",
       "      <td>4.010991e+09</td>\n",
       "      <td>4.001201e+09</td>\n",
       "      <td>3.650083e+09</td>\n",
       "      <td>3.346517e+09</td>\n",
       "      <td>3.427023e+09</td>\n",
       "      <td>3.146152e+09</td>\n",
       "      <td>3.248925e+09</td>\n",
       "      <td>NaN</td>\n",
       "      <td>NaN</td>\n",
       "      <td>NaN</td>\n",
       "    </tr>\n",
       "  </tbody>\n",
       "</table>\n",
       "</div>"
      ],
      "text/plain": [
       "     Country Name          2007          2008          2009          2010  \\\n",
       "0     Afghanistan  9.843842e+09  1.019053e+10  1.248694e+10  1.593680e+10   \n",
       "1         Albania  1.070101e+10  1.288135e+10  1.204421e+10  1.192695e+10   \n",
       "2         Algeria  1.349771e+11  1.710007e+11  1.372110e+11  1.612073e+11   \n",
       "3  American Samoa  5.200000e+08  5.630000e+08  6.780000e+08  5.760000e+08   \n",
       "4         Andorra  4.010991e+09  4.001201e+09  3.650083e+09  3.346517e+09   \n",
       "\n",
       "           2011          2012          2013          2014          2015  \\\n",
       "0  1.793024e+10  2.053654e+10  2.004633e+10  2.005019e+10  1.970299e+10   \n",
       "1  1.289087e+10  1.231978e+10  1.278103e+10  1.321986e+10  1.139037e+10   \n",
       "2  2.000131e+11  2.090474e+11  2.097835e+11  2.139831e+11  1.647795e+11   \n",
       "3  5.740000e+08  6.440000e+08  6.390000e+08  6.380000e+08  6.410000e+08   \n",
       "4  3.427023e+09  3.146152e+09  3.248925e+09           NaN           NaN   \n",
       "\n",
       "           2016  \n",
       "0  1.946902e+10  \n",
       "1  1.192689e+10  \n",
       "2  1.560796e+11  \n",
       "3           NaN  \n",
       "4           NaN  "
      ]
     },
     "execution_count": 6,
     "metadata": {},
     "output_type": "execute_result"
    }
   ],
   "source": [
    "# Inspect first few rows of the data \n",
    "\n",
    "military_spending.head()\n",
    "gdp.head()"
   ]
  },
  {
   "cell_type": "code",
   "execution_count": 7,
   "metadata": {
    "collapsed": true
   },
   "outputs": [],
   "source": [
    "# Replace the non-numeric data with NaN (Not a Number) \n",
    "\n",
    "\n",
    "military_spending = military_spending.replace(\"..\",np.nan)\n",
    "military_spending = military_spending.replace(\"...\",np.nan)\n",
    "military_spending = military_spending.replace(\". .\",np.nan)\n",
    "military_spending = military_spending.replace(\". . .\",np.nan)\n",
    "military_spending = military_spending.replace(\"xxx\",np.nan)\n",
    "\n",
    "gdp = gdp.replace(\"..\",np.nan)\n",
    "gdp = gdp.replace(\"...\",np.nan)\n",
    "gdp = gdp.replace(\". .\",np.nan)\n",
    "gdp = gdp.replace(\". . .\",np.nan)\n",
    "gdp = gdp.replace(\"xxx\",np.nan)\n"
   ]
  },
  {
   "cell_type": "code",
   "execution_count": 8,
   "metadata": {
    "collapsed": true
   },
   "outputs": [],
   "source": [
    "# Remove the rows which contains NA\n",
    "\n",
    "military_spending = military_spending.dropna(axis=0,how='any')\n",
    "gdp = gdp.dropna(axis=0,how='any')"
   ]
  },
  {
   "cell_type": "code",
   "execution_count": 9,
   "metadata": {},
   "outputs": [
    {
     "name": "stdout",
     "output_type": "stream",
     "text": [
      "<class 'pandas.core.frame.DataFrame'>\n",
      "Int64Index: 132 entries, 0 to 169\n",
      "Data columns (total 13 columns):\n",
      "Country      132 non-null object\n",
      "2007         132 non-null object\n",
      "2008         132 non-null object\n",
      "2009         132 non-null object\n",
      "2010         132 non-null object\n",
      "2011         132 non-null object\n",
      "2012         132 non-null object\n",
      "2013         132 non-null object\n",
      "2014         132 non-null object\n",
      "2015         132 non-null object\n",
      "2016         132 non-null object\n",
      "Region       132 non-null object\n",
      "Continent    132 non-null object\n",
      "dtypes: object(13)\n",
      "memory usage: 14.4+ KB\n"
     ]
    }
   ],
   "source": [
    "# Check if all the values are non-null in the dataset\n",
    "\n",
    "military_spending.info()"
   ]
  },
  {
   "cell_type": "code",
   "execution_count": 10,
   "metadata": {
    "collapsed": true
   },
   "outputs": [],
   "source": [
    "# Merge the gdp data with military spending for the matching country names\n",
    "\n",
    "gdp_military_spending = (gdp.merge(military_spending,left_on='Country Name', right_on='Country', how='inner'))"
   ]
  },
  {
   "cell_type": "code",
   "execution_count": 11,
   "metadata": {},
   "outputs": [
    {
     "name": "stdout",
     "output_type": "stream",
     "text": [
      "<class 'pandas.core.frame.DataFrame'>\n",
      "Int64Index: 123 entries, 0 to 122\n",
      "Data columns (total 24 columns):\n",
      "Country Name    123 non-null object\n",
      "2007_x          123 non-null float64\n",
      "2008_x          123 non-null float64\n",
      "2009_x          123 non-null float64\n",
      "2010_x          123 non-null float64\n",
      "2011_x          123 non-null float64\n",
      "2012_x          123 non-null float64\n",
      "2013_x          123 non-null float64\n",
      "2014_x          123 non-null float64\n",
      "2015_x          123 non-null float64\n",
      "2016_x          123 non-null float64\n",
      "Country         123 non-null object\n",
      "2007_y          123 non-null object\n",
      "2008_y          123 non-null object\n",
      "2009_y          123 non-null object\n",
      "2010_y          123 non-null object\n",
      "2011_y          123 non-null object\n",
      "2012_y          123 non-null object\n",
      "2013_y          123 non-null object\n",
      "2014_y          123 non-null object\n",
      "2015_y          123 non-null object\n",
      "2016_y          123 non-null object\n",
      "Region          123 non-null object\n",
      "Continent       123 non-null object\n",
      "dtypes: float64(10), object(14)\n",
      "memory usage: 24.0+ KB\n"
     ]
    }
   ],
   "source": [
    "gdp_military_spending.info()"
   ]
  },
  {
   "cell_type": "code",
   "execution_count": 12,
   "metadata": {
    "collapsed": true
   },
   "outputs": [],
   "source": [
    "# Delete the duplicate column\n",
    "\n",
    "del gdp_military_spending['Country Name']"
   ]
  },
  {
   "cell_type": "code",
   "execution_count": 13,
   "metadata": {
    "collapsed": true
   },
   "outputs": [],
   "source": [
    "# Set the row index as country name as it is unique identifier\n",
    "\n",
    "gdp_military_spending = gdp_military_spending.set_index('Country')"
   ]
  },
  {
   "cell_type": "code",
   "execution_count": 14,
   "metadata": {
    "collapsed": true
   },
   "outputs": [],
   "source": [
    "# Convert the numerical data into numeric data type from object\n",
    "\n",
    "gdp_military_spending.loc[:,'2007_x':'2016_y'] = gdp_military_spending.loc[:,'2007_x':'2016_y'].apply(pd.to_numeric)"
   ]
  },
  {
   "cell_type": "code",
   "execution_count": 15,
   "metadata": {
    "collapsed": true
   },
   "outputs": [],
   "source": [
    "# Subset the data for year 2016 gdp and military spending\n",
    "\n",
    "gdp_military_spending_2016 = gdp_military_spending.loc[:,['2016_x','2016_y']]"
   ]
  },
  {
   "cell_type": "code",
   "execution_count": 16,
   "metadata": {
    "collapsed": true
   },
   "outputs": [],
   "source": [
    "# Rename the column names\n",
    "\n",
    "gdp_military_spending_2016.columns = ['GDP (US $)','Military Spending (US $)']"
   ]
  },
  {
   "cell_type": "code",
   "execution_count": 17,
   "metadata": {
    "collapsed": true
   },
   "outputs": [],
   "source": [
    "# Sort the data on the basis of top military expenditures\n",
    "\n",
    "gdp_military_spending_2016_sorted = (gdp_military_spending_2016.sort_values\n",
    "                                                    (by='Military Spending (US $)',ascending=False))"
   ]
  },
  {
   "cell_type": "code",
   "execution_count": 18,
   "metadata": {
    "collapsed": true
   },
   "outputs": [],
   "source": [
    "# Round the data for nearest integer\n",
    "\n",
    "gdp_military_spending_2016_sorted = (gdp_military_spending_2016_sorted.round\n",
    "                                        ({'GDP Per Capita (US $)':0,'Military Spending Per Capita (US $)':0}))"
   ]
  },
  {
   "cell_type": "code",
   "execution_count": 19,
   "metadata": {
    "collapsed": true
   },
   "outputs": [],
   "source": [
    "# Subset for top 20 military expenditure nations\n",
    "\n",
    "gdp_military_spending_2016_top20 = gdp_military_spending_2016_sorted.iloc[0:20,]"
   ]
  },
  {
   "cell_type": "code",
   "execution_count": 20,
   "metadata": {
    "collapsed": true
   },
   "outputs": [],
   "source": [
    "# Save the results to export to plotly\n",
    "\n",
    "gdp_military_spending_2016_top20.to_csv(\"gdp_military_spending_2016_top20.csv\")"
   ]
  },
  {
   "cell_type": "code",
   "execution_count": 22,
   "metadata": {},
   "outputs": [
    {
     "data": {
      "text/html": [
       "<iframe id=\"igraph\" scrolling=\"no\" style=\"border:none;\" seamless=\"seamless\" src=\"https://plot.ly/~iamDeepakA/48.embed\" height=\"525px\" width=\"100%\"></iframe>"
      ],
      "text/plain": [
       "<plotly.tools.PlotlyDisplay object>"
      ]
     },
     "execution_count": 22,
     "metadata": {},
     "output_type": "execute_result"
    }
   ],
   "source": [
    "# Fetch the graph from online plotly and display\n",
    "py.sign_in('iamDeepakA','priXUwppx0TKp9sswWmk')\n",
    "fig = py.get_figure('https://plot.ly/~iamDeepakA/28/', raw=False)\n",
    "py.iplot(fig)"
   ]
  },
  {
   "cell_type": "code",
   "execution_count": 24,
   "metadata": {},
   "outputs": [],
   "source": [
    "# Prepare the data for top 20 military expenditure nation for 2015\n",
    "\n",
    "gdp_military_spending_2015 = gdp_military_spending.loc[:,['2015_x','2015_y']]\n",
    "\n",
    "gdp_military_spending_2015.columns = ['GDP (US $)','Military Spending (US $)']\n",
    "\n",
    "gdp_military_spending_2015.head()\n",
    "\n",
    "gdp_military_spending_2015_sorted = (gdp_military_spending_2015.sort_values\n",
    "                                                    (by='Military Spending (US $)',ascending=False))\n",
    "\n",
    "gdp_military_spending_2015_sorted = (gdp_military_spending_2015_sorted.round\n",
    "                                        ({'GDP Per Capita (US $)':0,'Military Spending (US $)':0}))\n",
    "\n",
    "gdp_military_spending_2015_top20 = gdp_military_spending_2015_sorted.iloc[0:20,]\n",
    "\n",
    "gdp_military_spending_2015_top20\n",
    "\n",
    "gdp_military_spending_2015_top20.to_csv(\"gdp_military_spending_2015_top20.csv\")"
   ]
  },
  {
   "cell_type": "code",
   "execution_count": 23,
   "metadata": {},
   "outputs": [
    {
     "data": {
      "text/html": [
       "<iframe id=\"igraph\" scrolling=\"no\" style=\"border:none;\" seamless=\"seamless\" src=\"https://plot.ly/~iamDeepakA/50.embed\" height=\"525px\" width=\"100%\"></iframe>"
      ],
      "text/plain": [
       "<plotly.tools.PlotlyDisplay object>"
      ]
     },
     "execution_count": 23,
     "metadata": {},
     "output_type": "execute_result"
    }
   ],
   "source": [
    "# Fetch the graph from online plotly and display\n",
    "py.sign_in('iamDeepakA','priXUwppx0TKp9sswWmk')\n",
    "fig = py.get_figure('https://plot.ly/~iamDeepakA/32/', raw=False)\n",
    "py.iplot(fig)\n"
   ]
  }
 ],
 "metadata": {
  "kernelspec": {
   "display_name": "Python 3",
   "language": "python",
   "name": "python3"
  },
  "language_info": {
   "codemirror_mode": {
    "name": "ipython",
    "version": 3
   },
   "file_extension": ".py",
   "mimetype": "text/x-python",
   "name": "python",
   "nbconvert_exporter": "python",
   "pygments_lexer": "ipython3",
   "version": "3.6.2"
  }
 },
 "nbformat": 4,
 "nbformat_minor": 2
}
